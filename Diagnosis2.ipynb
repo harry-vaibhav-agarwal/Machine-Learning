{
  "nbformat": 4,
  "nbformat_minor": 0,
  "metadata": {
    "accelerator": "GPU",
    "colab": {
      "name": "Diagnosis2.ipynb",
      "provenance": [],
      "collapsed_sections": [
        "IJkW43sQRNb7"
      ],
      "include_colab_link": true
    },
    "kernelspec": {
      "display_name": "Python 3",
      "language": "python",
      "name": "python3"
    },
    "language_info": {
      "codemirror_mode": {
        "name": "ipython",
        "version": 3
      },
      "file_extension": ".py",
      "mimetype": "text/x-python",
      "name": "python",
      "nbconvert_exporter": "python",
      "pygments_lexer": "ipython3",
      "version": "3.7.3"
    },
    "widgets": {
      "application/vnd.jupyter.widget-state+json": {
        "0a75b441ec734ef695f5c6ea9171b19e": {
          "model_module": "@jupyter-widgets/controls",
          "model_name": "HBoxModel",
          "state": {
            "_view_name": "HBoxView",
            "_dom_classes": [],
            "_model_name": "HBoxModel",
            "_view_module": "@jupyter-widgets/controls",
            "_model_module_version": "1.5.0",
            "_view_count": null,
            "_view_module_version": "1.5.0",
            "box_style": "",
            "layout": "IPY_MODEL_ce71b83d0cf046d59d73b85f73eb3b12",
            "_model_module": "@jupyter-widgets/controls",
            "children": [
              "IPY_MODEL_c7cbf69980004952b7a1e04aac6a9873",
              "IPY_MODEL_7518e91624e74db6bc8000a890d29fa9"
            ]
          }
        },
        "ce71b83d0cf046d59d73b85f73eb3b12": {
          "model_module": "@jupyter-widgets/base",
          "model_name": "LayoutModel",
          "state": {
            "_view_name": "LayoutView",
            "grid_template_rows": null,
            "right": null,
            "justify_content": null,
            "_view_module": "@jupyter-widgets/base",
            "overflow": null,
            "_model_module_version": "1.2.0",
            "_view_count": null,
            "flex_flow": null,
            "width": null,
            "min_width": null,
            "border": null,
            "align_items": null,
            "bottom": null,
            "_model_module": "@jupyter-widgets/base",
            "top": null,
            "grid_column": null,
            "overflow_y": null,
            "overflow_x": null,
            "grid_auto_flow": null,
            "grid_area": null,
            "grid_template_columns": null,
            "flex": null,
            "_model_name": "LayoutModel",
            "justify_items": null,
            "grid_row": null,
            "max_height": null,
            "align_content": null,
            "visibility": null,
            "align_self": null,
            "height": null,
            "min_height": null,
            "padding": null,
            "grid_auto_rows": null,
            "grid_gap": null,
            "max_width": null,
            "order": null,
            "_view_module_version": "1.2.0",
            "grid_template_areas": null,
            "object_position": null,
            "object_fit": null,
            "grid_auto_columns": null,
            "margin": null,
            "display": null,
            "left": null
          }
        },
        "c7cbf69980004952b7a1e04aac6a9873": {
          "model_module": "@jupyter-widgets/controls",
          "model_name": "FloatProgressModel",
          "state": {
            "_view_name": "ProgressView",
            "style": "IPY_MODEL_2db03a19f15b47a8808b82bf4979ff16",
            "_dom_classes": [],
            "description": "100%",
            "_model_name": "FloatProgressModel",
            "bar_style": "success",
            "max": 178728960,
            "_view_module": "@jupyter-widgets/controls",
            "_model_module_version": "1.5.0",
            "value": 178728960,
            "_view_count": null,
            "_view_module_version": "1.5.0",
            "orientation": "horizontal",
            "min": 0,
            "description_tooltip": null,
            "_model_module": "@jupyter-widgets/controls",
            "layout": "IPY_MODEL_2e41b643a6344d9ea45c7b2c37503763"
          }
        },
        "7518e91624e74db6bc8000a890d29fa9": {
          "model_module": "@jupyter-widgets/controls",
          "model_name": "HTMLModel",
          "state": {
            "_view_name": "HTMLView",
            "style": "IPY_MODEL_7a77ef38571c4a96b33f22556574e706",
            "_dom_classes": [],
            "description": "",
            "_model_name": "HTMLModel",
            "placeholder": "​",
            "_view_module": "@jupyter-widgets/controls",
            "_model_module_version": "1.5.0",
            "value": " 170M/170M [00:10&lt;00:00, 17.7MB/s]",
            "_view_count": null,
            "_view_module_version": "1.5.0",
            "description_tooltip": null,
            "_model_module": "@jupyter-widgets/controls",
            "layout": "IPY_MODEL_7f52be66265043fa9e2032e49aeffc16"
          }
        },
        "2db03a19f15b47a8808b82bf4979ff16": {
          "model_module": "@jupyter-widgets/controls",
          "model_name": "ProgressStyleModel",
          "state": {
            "_view_name": "StyleView",
            "_model_name": "ProgressStyleModel",
            "description_width": "initial",
            "_view_module": "@jupyter-widgets/base",
            "_model_module_version": "1.5.0",
            "_view_count": null,
            "_view_module_version": "1.2.0",
            "bar_color": null,
            "_model_module": "@jupyter-widgets/controls"
          }
        },
        "2e41b643a6344d9ea45c7b2c37503763": {
          "model_module": "@jupyter-widgets/base",
          "model_name": "LayoutModel",
          "state": {
            "_view_name": "LayoutView",
            "grid_template_rows": null,
            "right": null,
            "justify_content": null,
            "_view_module": "@jupyter-widgets/base",
            "overflow": null,
            "_model_module_version": "1.2.0",
            "_view_count": null,
            "flex_flow": null,
            "width": null,
            "min_width": null,
            "border": null,
            "align_items": null,
            "bottom": null,
            "_model_module": "@jupyter-widgets/base",
            "top": null,
            "grid_column": null,
            "overflow_y": null,
            "overflow_x": null,
            "grid_auto_flow": null,
            "grid_area": null,
            "grid_template_columns": null,
            "flex": null,
            "_model_name": "LayoutModel",
            "justify_items": null,
            "grid_row": null,
            "max_height": null,
            "align_content": null,
            "visibility": null,
            "align_self": null,
            "height": null,
            "min_height": null,
            "padding": null,
            "grid_auto_rows": null,
            "grid_gap": null,
            "max_width": null,
            "order": null,
            "_view_module_version": "1.2.0",
            "grid_template_areas": null,
            "object_position": null,
            "object_fit": null,
            "grid_auto_columns": null,
            "margin": null,
            "display": null,
            "left": null
          }
        },
        "7a77ef38571c4a96b33f22556574e706": {
          "model_module": "@jupyter-widgets/controls",
          "model_name": "DescriptionStyleModel",
          "state": {
            "_view_name": "StyleView",
            "_model_name": "DescriptionStyleModel",
            "description_width": "",
            "_view_module": "@jupyter-widgets/base",
            "_model_module_version": "1.5.0",
            "_view_count": null,
            "_view_module_version": "1.2.0",
            "_model_module": "@jupyter-widgets/controls"
          }
        },
        "7f52be66265043fa9e2032e49aeffc16": {
          "model_module": "@jupyter-widgets/base",
          "model_name": "LayoutModel",
          "state": {
            "_view_name": "LayoutView",
            "grid_template_rows": null,
            "right": null,
            "justify_content": null,
            "_view_module": "@jupyter-widgets/base",
            "overflow": null,
            "_model_module_version": "1.2.0",
            "_view_count": null,
            "flex_flow": null,
            "width": null,
            "min_width": null,
            "border": null,
            "align_items": null,
            "bottom": null,
            "_model_module": "@jupyter-widgets/base",
            "top": null,
            "grid_column": null,
            "overflow_y": null,
            "overflow_x": null,
            "grid_auto_flow": null,
            "grid_area": null,
            "grid_template_columns": null,
            "flex": null,
            "_model_name": "LayoutModel",
            "justify_items": null,
            "grid_row": null,
            "max_height": null,
            "align_content": null,
            "visibility": null,
            "align_self": null,
            "height": null,
            "min_height": null,
            "padding": null,
            "grid_auto_rows": null,
            "grid_gap": null,
            "max_width": null,
            "order": null,
            "_view_module_version": "1.2.0",
            "grid_template_areas": null,
            "object_position": null,
            "object_fit": null,
            "grid_auto_columns": null,
            "margin": null,
            "display": null,
            "left": null
          }
        }
      }
    }
  },
  "cells": [
    {
      "cell_type": "markdown",
      "metadata": {
        "id": "view-in-github",
        "colab_type": "text"
      },
      "source": [
        "<a href=\"https://colab.research.google.com/github/harry-vaibhav-agarwal/Machine-Learning/blob/main/Diagnosis2.ipynb\" target=\"_parent\"><img src=\"https://colab.research.google.com/assets/colab-badge.svg\" alt=\"Open In Colab\"/></a>"
      ]
    },
    {
      "cell_type": "markdown",
      "metadata": {
        "id": "JmzrpUuFvxSs"
      },
      "source": [
        "## Copy and Unzip Data and Labels"
      ]
    },
    {
      "cell_type": "code",
      "metadata": {
        "id": "VCkKrLPgM2UQ"
      },
      "source": [
        "# Python library for copying files from My Drive\n",
        "import shutil\n",
        "import warnings\n",
        "warnings.filterwarnings(\"ignore\")"
      ],
      "execution_count": 72,
      "outputs": []
    },
    {
      "cell_type": "code",
      "metadata": {
        "colab": {
          "base_uri": "https://localhost:8080/"
        },
        "id": "UdHrkJd7NG0P",
        "outputId": "9737366b-742d-4d3a-cfd7-c0842140eefa"
      },
      "source": [
        "\n",
        "# Ignore if running locally\n",
        "from google.colab import drive\n",
        "drive.mount('/content/drive',force_remount=True)"
      ],
      "execution_count": 79,
      "outputs": [
        {
          "output_type": "stream",
          "text": [
            "Mounted at /content/drive\n"
          ],
          "name": "stdout"
        }
      ]
    },
    {
      "cell_type": "markdown",
      "metadata": {
        "id": "kvqACpq_axEv"
      },
      "source": [
        ""
      ]
    },
    {
      "cell_type": "code",
      "metadata": {
        "colab": {
          "base_uri": "https://localhost:8080/",
          "height": 35
        },
        "id": "CbepHYh9M3tu",
        "outputId": "3f7d9ff2-6286-4b6f-c231-638464e219a1"
      },
      "source": [
        "# Ignore if running locally\n",
        "# Otherwise change `drive/My Drive/Colab Notebooks/Data/ISIC2018_Task3_Training_*.zip` to /path/to/data\n",
        "shutil.copy2(\"/content/drive/MyDrive/Data/Training_GroundTruth.zip\", \"./\")\n",
        "shutil.copy2(\"/content/drive/MyDrive/Data/Training_Input.zip\", \"./\")"
      ],
      "execution_count": 107,
      "outputs": [
        {
          "output_type": "execute_result",
          "data": {
            "application/vnd.google.colaboratory.intrinsic+json": {
              "type": "string"
            },
            "text/plain": [
              "'./Training_Input.zip'"
            ]
          },
          "metadata": {
            "tags": []
          },
          "execution_count": 107
        }
      ]
    },
    {
      "cell_type": "code",
      "metadata": {
        "colab": {
          "base_uri": "https://localhost:8080/"
        },
        "id": "tQE6BMXsIxS2",
        "outputId": "e907349e-110e-424c-a116-760bc0aede1d"
      },
      "source": [
        "!unzip -q Training_GroundTruth.zip"
      ],
      "execution_count": 89,
      "outputs": [
        {
          "output_type": "stream",
          "text": [
            "replace ISIC2018_Task3_Training_GroundTruth/ATTRIBUTION.txt? [y]es, [n]o, [A]ll, [N]one, [r]ename: n\n",
            "replace ISIC2018_Task3_Training_GroundTruth/ISIC2018_Task3_Training_GroundTruth.csv? [y]es, [n]o, [A]ll, [N]one, [r]ename: "
          ],
          "name": "stdout"
        }
      ]
    },
    {
      "cell_type": "code",
      "metadata": {
        "id": "WQdrc1kKLEeE"
      },
      "source": [
        "!unzip -q Training_Input.zip"
      ],
      "execution_count": 108,
      "outputs": []
    },
    {
      "cell_type": "markdown",
      "metadata": {
        "id": "kdKpLQ1Gv4pc"
      },
      "source": [
        "## Attribution"
      ]
    },
    {
      "cell_type": "code",
      "metadata": {
        "colab": {
          "base_uri": "https://localhost:8080/"
        },
        "id": "TCcfzRS8LN2j",
        "outputId": "d63f9a29-b7c3-4b76-c557-4102f671371f"
      },
      "source": [
        "print(open(\"ISIC2018_Task3_Training_GroundTruth/ATTRIBUTION.txt\").read())"
      ],
      "execution_count": 90,
      "outputs": [
        {
          "output_type": "stream",
          "text": [
            "ISIC-2018 Challenge: Task 3: Training Ground Truth (HAM10000 Dataset: https://arxiv.org/abs/1803.10417 ) (c) by ViDIR Group, Department of Dermatology, Medical University of Vienna\n",
            "\n",
            "ISIC-2018 Challenge: Task 3: Training Ground Truth (HAM10000 Dataset: https://arxiv.org/abs/1803.10417 ) is licensed under a\n",
            "Creative Commons Attribution-NonCommercial 4.0 International License.\n",
            "\n",
            "You should have received a copy of the license along with this\n",
            "work. If not, see <http://creativecommons.org/licenses/by-nc/4.0/>.\n",
            "\n"
          ],
          "name": "stdout"
        }
      ]
    },
    {
      "cell_type": "markdown",
      "metadata": {
        "id": "PUEMjxVdwGCV"
      },
      "source": [
        "## Make labels/data FAST.AI ready"
      ]
    },
    {
      "cell_type": "code",
      "metadata": {
        "id": "k_uUResxLlOm"
      },
      "source": [
        "import os\n",
        "import math\n",
        "import pandas as pd\n",
        "import numpy as np"
      ],
      "execution_count": 6,
      "outputs": []
    },
    {
      "cell_type": "code",
      "metadata": {
        "id": "wzlzUNfTkSvp"
      },
      "source": [
        "np.random.seed(42)"
      ],
      "execution_count": 7,
      "outputs": []
    },
    {
      "cell_type": "code",
      "metadata": {
        "id": "ZVDbYFGnLz18"
      },
      "source": [
        "df = pd.read_csv(\"ISIC2018_Task3_Training_GroundTruth/ISIC2018_Task3_Training_GroundTruth.csv\")"
      ],
      "execution_count": 8,
      "outputs": []
    },
    {
      "cell_type": "code",
      "metadata": {
        "colab": {
          "base_uri": "https://localhost:8080/"
        },
        "id": "oYQEheKGM7pg",
        "outputId": "e8f69c74-f33a-47dc-8723-16f4e7ef3ec7"
      },
      "source": [
        "for col in df.columns:\n",
        "  if col != \"image\":\n",
        "    s = df[col].sum()\n",
        "    c = df[col].count()\n",
        "    print(\"Column: {}\\t Count: {}\\t Percentage: {}\".format(col, s, round((s/c)*100, 2)))"
      ],
      "execution_count": 9,
      "outputs": [
        {
          "output_type": "stream",
          "text": [
            "Column: MEL\t Count: 1113.0\t Percentage: 11.11\n",
            "Column: NV\t Count: 6705.0\t Percentage: 66.95\n",
            "Column: BCC\t Count: 514.0\t Percentage: 5.13\n",
            "Column: AKIEC\t Count: 327.0\t Percentage: 3.27\n",
            "Column: BKL\t Count: 1099.0\t Percentage: 10.97\n",
            "Column: DF\t Count: 115.0\t Percentage: 1.15\n",
            "Column: VASC\t Count: 142.0\t Percentage: 1.42\n"
          ],
          "name": "stdout"
        }
      ]
    },
    {
      "cell_type": "code",
      "metadata": {
        "id": "9FP5PN_ORU07"
      },
      "source": [
        "# Image classes are in individual columns\n",
        "# Created a new column name `class` \n",
        "# which contains values from 0-6\n",
        "df[\"class\"] = df.drop(\"image\", axis=1).apply(lambda x: x.to_numpy().argmax(), axis=1)"
      ],
      "execution_count": 10,
      "outputs": []
    },
    {
      "cell_type": "code",
      "metadata": {
        "colab": {
          "base_uri": "https://localhost:8080/"
        },
        "id": "WTGRE7Bar3jF",
        "outputId": "03c18ef4-1ade-4da8-b78d-57f2b1add6e4"
      },
      "source": [
        "# What each value means in the `class` column\n",
        "a = list(df.columns)\n",
        "for i in [\"image\", \"class\"]:\n",
        "  a.remove(i)\n",
        "a = dict(zip(a, range(len(a))))\n",
        "print(a)"
      ],
      "execution_count": 11,
      "outputs": [
        {
          "output_type": "stream",
          "text": [
            "{'MEL': 0, 'NV': 1, 'BCC': 2, 'AKIEC': 3, 'BKL': 4, 'DF': 5, 'VASC': 6}\n"
          ],
          "name": "stdout"
        }
      ]
    },
    {
      "cell_type": "code",
      "metadata": {
        "id": "im8xQ1S7sv4Y"
      },
      "source": [
        "df.drop(a.keys(), axis=1, inplace=True)"
      ],
      "execution_count": 12,
      "outputs": []
    },
    {
      "cell_type": "code",
      "metadata": {
        "id": "2_iVNt3rws-8"
      },
      "source": [
        "df.to_csv(\"isic_labels.csv\", index=False)"
      ],
      "execution_count": 13,
      "outputs": []
    },
    {
      "cell_type": "markdown",
      "metadata": {
        "id": "GEcwTggBlhZH"
      },
      "source": [
        "### Extract Validation Dataset"
      ]
    },
    {
      "cell_type": "code",
      "metadata": {
        "id": "pkwRdkJelgWY"
      },
      "source": [
        "test_idx = []\n",
        "for c in df[\"class\"].unique():\n",
        "    # get all the image names from a particular class\n",
        "    temp = df[df['class'].apply(lambda x: True if x == c else False)]\n",
        "    # extract 10% of images from each class\n",
        "    test_idx += temp.sample(math.floor(temp.shape[0]/10)).index.to_list()"
      ],
      "execution_count": 14,
      "outputs": []
    },
    {
      "cell_type": "code",
      "metadata": {
        "id": "7VyItTIVFeIP"
      },
      "source": [
        "# create a test dataframe\n",
        "test_df = df.iloc[test_idx].reset_index(drop=True)"
      ],
      "execution_count": 15,
      "outputs": []
    },
    {
      "cell_type": "code",
      "metadata": {
        "id": "75bEjfHaFd3z"
      },
      "source": [
        "# create a train dataframe\n",
        "train_df = df.drop(labels=test_idx).reset_index(drop=True)"
      ],
      "execution_count": 16,
      "outputs": []
    },
    {
      "cell_type": "code",
      "metadata": {
        "id": "HpATIKmyFds7"
      },
      "source": [
        "train_df.to_csv(\"isic_train_labels.csv\", index=False)\n",
        "test_df.to_csv(\"isic_test_labels.csv\", index=False)"
      ],
      "execution_count": 17,
      "outputs": []
    },
    {
      "cell_type": "markdown",
      "metadata": {
        "id": "2gVjmJ-4uQBB"
      },
      "source": [
        "### Oversampling"
      ]
    },
    {
      "cell_type": "code",
      "metadata": {
        "id": "NlrvGcjbuBTt"
      },
      "source": [
        "df = pd.read_csv(\"isic_train_labels.csv\")"
      ],
      "execution_count": 18,
      "outputs": []
    },
    {
      "cell_type": "code",
      "metadata": {
        "colab": {
          "base_uri": "https://localhost:8080/"
        },
        "id": "bdBQNMxBG93z",
        "outputId": "82d2e4fd-d498-4fcc-af1e-eba435ac7c91"
      },
      "source": [
        "# class NV has highest number of images\n",
        "sum(df[\"class\"] == 1)"
      ],
      "execution_count": 104,
      "outputs": [
        {
          "output_type": "execute_result",
          "data": {
            "text/plain": [
              "6035"
            ]
          },
          "metadata": {
            "tags": []
          },
          "execution_count": 104
        }
      ]
    },
    {
      "cell_type": "code",
      "metadata": {
        "id": "8WDQyWk6ulxP"
      },
      "source": [
        "classes = df[\"class\"].unique()\n",
        "max_val = 6035"
      ],
      "execution_count": 20,
      "outputs": []
    },
    {
      "cell_type": "code",
      "metadata": {
        "id": "SxNKQ-umuloG"
      },
      "source": [
        "path = \"Training_Input\"\n",
        "def cloning(img, count):\n",
        "  \"\"\"\n",
        "  img: Image Name\n",
        "  count: Number of times `img` needs to be copied.\n",
        "  \"\"\"\n",
        "  images = []\n",
        "  for i in range(count):\n",
        "    ii = img+\"_\"+str(i)\n",
        "    img_path = os.path.join(path, img+\".jpg\")\n",
        "    ii_path = os.path.join(path, ii+\".jpg\")\n",
        "    # Creating a copy of `img` in the file system\n",
        "    shutil.copy(img_path, ii_path)\n",
        "    images.append(ii)\n",
        "  return images"
      ],
      "execution_count": 19,
      "outputs": []
    },
    {
      "cell_type": "code",
      "metadata": {
        "id": "KCTC2TS63gTp"
      },
      "source": [
        ""
      ],
      "execution_count": null,
      "outputs": []
    },
    {
      "cell_type": "code",
      "metadata": {
        "id": "IXa-w6irulcS"
      },
      "source": [
        "\n",
        "images, labels = [], []\n",
        "for c in classes:\n",
        "    if c == 1:\n",
        "        continue\n",
        "    data = df[df[\"class\"].apply(lambda x: True if x == c else False)]\n",
        "    l = data.image.shape[0]\n",
        "    rest = max_val - (math.floor(max_val/l)*l)\n",
        "    ns = [j+1 if i < rest else j for i, j in enumerate([math.floor(max_val/l)]*l)]\n",
        "    for i, n in zip(data.image.values, ns):\n",
        "        images += cloning(i, n)\n",
        "        labels += [c]*n"
      ],
      "execution_count": 23,
      "outputs": []
    },
    {
      "cell_type": "code",
      "metadata": {
        "id": "irVZTpHIxCGl"
      },
      "source": [
        "# `oversampled` do not contain any class `1` image\n",
        "oversampled = pd.DataFrame({\"image\": images, \"class\": labels})"
      ],
      "execution_count": 24,
      "outputs": []
    },
    {
      "cell_type": "code",
      "metadata": {
        "id": "BMlcsVw4xaYr"
      },
      "source": [
        "df_1 = df[df[\"class\"].apply(lambda x: True if x == 1 else False)]"
      ],
      "execution_count": 25,
      "outputs": []
    },
    {
      "cell_type": "code",
      "metadata": {
        "id": "1E-sr1dNyLY7"
      },
      "source": [
        "balanced = pd.concat([oversampled, df_1]).reset_index(drop=True) # New balanced dataset"
      ],
      "execution_count": 26,
      "outputs": []
    },
    {
      "cell_type": "code",
      "metadata": {
        "id": "eq_INxjGOsMq"
      },
      "source": [
        "# For data_block api to understand which image is for training\n",
        "# and which one is for validation\n",
        "balanced[\"is_valid\"] = False\n",
        "test_df[\"is_valid\"] = True"
      ],
      "execution_count": 27,
      "outputs": []
    },
    {
      "cell_type": "code",
      "metadata": {
        "id": "RHCd_Nd4O5Jf"
      },
      "source": [
        "balanced = pd.concat([balanced, test_df]).reset_index(drop=True)"
      ],
      "execution_count": 28,
      "outputs": []
    },
    {
      "cell_type": "code",
      "metadata": {
        "id": "adEzmPe-PMxb"
      },
      "source": [
        "# balanced[-10:]"
      ],
      "execution_count": null,
      "outputs": []
    },
    {
      "cell_type": "code",
      "metadata": {
        "id": "-qjiv_TxzGTu"
      },
      "source": [
        "balanced.to_csv(\"isic_labels_balanced.csv\", index=False)"
      ],
      "execution_count": 29,
      "outputs": []
    },
    {
      "cell_type": "markdown",
      "metadata": {
        "id": "ZpR6SAQ3wOw_"
      },
      "source": [
        "## Start Coding FAST"
      ]
    },
    {
      "cell_type": "code",
      "metadata": {
        "colab": {
          "base_uri": "https://localhost:8080/"
        },
        "id": "PV8Rd1x0gWbi",
        "outputId": "0e0786f2-3b4b-4ccb-ab28-c6806dd72d28"
      },
      "source": [
        "!curl https://course.fast.ai/setup/colab | bash"
      ],
      "execution_count": 118,
      "outputs": [
        {
          "output_type": "stream",
          "text": [
            "  % Total    % Received % Xferd  Average Speed   Time    Time     Time  Current\n",
            "                                 Dload  Upload   Total   Spent    Left  Speed\n",
            "100  9127    0  9127    0     0  43461      0 --:--:-- --:--:-- --:--:-- 43879\n",
            "bash: line 1: syntax error near unexpected token `newline'\n",
            "bash: line 1: `<!DOCTYPE html>'\n"
          ],
          "name": "stdout"
        }
      ]
    },
    {
      "cell_type": "code",
      "metadata": {
        "id": "ykSN9COyt6xd"
      },
      "source": [
        "from fastai.vision import *"
      ],
      "execution_count": 31,
      "outputs": []
    },
    {
      "cell_type": "code",
      "metadata": {
        "id": "F9gDMNln0eZU",
        "colab": {
          "base_uri": "https://localhost:8080/"
        },
        "outputId": "8e768fdd-bc67-4e57-9837-b5e6fb8394bb"
      },
      "source": [
        "# Copied from lesson3-planet.ipynb\n",
        "tfms = get_transforms(max_rotate=20, max_zoom=1.5, max_lighting=0.5, max_warp=0.4, p_affine=1., p_lighting=1., flip_vert=True)\n",
        "\n",
        "tfms."
      ],
      "execution_count": 66,
      "outputs": [
        {
          "output_type": "stream",
          "text": [
            "([RandTransform(tfm=TfmCrop (crop_pad), kwargs={'row_pct': (0, 1), 'col_pct': (0, 1), 'padding_mode': 'reflection'}, p=1.0, resolved={}, do_run=True, is_random=True, use_on_y=True), RandTransform(tfm=TfmAffine (dihedral_affine), kwargs={}, p=1.0, resolved={}, do_run=True, is_random=True, use_on_y=True), RandTransform(tfm=TfmCoord (symmetric_warp), kwargs={'magnitude': (-0.4, 0.4)}, p=1.0, resolved={}, do_run=True, is_random=True, use_on_y=True), RandTransform(tfm=TfmAffine (rotate), kwargs={'degrees': (-20, 20)}, p=1.0, resolved={}, do_run=True, is_random=True, use_on_y=True), RandTransform(tfm=TfmAffine (zoom), kwargs={'scale': (1.0, 1.5), 'row_pct': (0, 1), 'col_pct': (0, 1)}, p=1.0, resolved={}, do_run=True, is_random=True, use_on_y=True), RandTransform(tfm=TfmLighting (brightness), kwargs={'change': (0.25, 0.75)}, p=1.0, resolved={}, do_run=True, is_random=True, use_on_y=True), RandTransform(tfm=TfmLighting (contrast), kwargs={'scale': (0.5, 2.0)}, p=1.0, resolved={}, do_run=True, is_random=True, use_on_y=True)], [RandTransform(tfm=TfmCrop (crop_pad), kwargs={}, p=1.0, resolved={}, do_run=True, is_random=True, use_on_y=True)])\n"
          ],
          "name": "stdout"
        }
      ]
    },
    {
      "cell_type": "code",
      "metadata": {
        "id": "5GcUcmdR0cbn"
      },
      "source": [
        "src = (ImageList.from_csv(\"./\", \"isic_labels_balanced.csv\", folder=\"Training_Input\", suffix=\".jpg\")\n",
        "                .split_from_df() # uses `is_valid` column\n",
        "                .label_from_df())"
      ],
      "execution_count": 33,
      "outputs": []
    },
    {
      "cell_type": "code",
      "metadata": {
        "colab": {
          "base_uri": "https://localhost:8080/"
        },
        "id": "hqzIa4aPIR_3",
        "outputId": "814cf18c-286b-46f7-f532-713796b163d1"
      },
      "source": [
        "print(src)"
      ],
      "execution_count": 76,
      "outputs": [
        {
          "output_type": "stream",
          "text": [
            "LabelLists;\n",
            "\n",
            "Train: LabelList (42245 items)\n",
            "x: ImageList\n",
            "Image (3, 224, 224),Image (3, 224, 224),Image (3, 224, 224),Image (3, 224, 224),Image (3, 224, 224)\n",
            "y: CategoryList\n",
            "0,0,0,0,0\n",
            "Path: .;\n",
            "\n",
            "Valid: LabelList (998 items)\n",
            "x: ImageList\n",
            "Image (3, 224, 224),Image (3, 224, 224),Image (3, 224, 224),Image (3, 224, 224),Image (3, 224, 224)\n",
            "y: CategoryList\n",
            "1,1,1,1,1\n",
            "Path: .;\n",
            "\n",
            "Test: None\n"
          ],
          "name": "stdout"
        }
      ]
    },
    {
      "cell_type": "code",
      "metadata": {
        "id": "W3xqd59wUQf_"
      },
      "source": [
        ""
      ],
      "execution_count": null,
      "outputs": []
    },
    {
      "cell_type": "markdown",
      "metadata": {
        "id": "6hBvYCizPcKV"
      },
      "source": [
        "After this, I did a bunch of training using various Resnet models and training sizes.\n",
        "\n",
        "---\n",
        "\n",
        "\n",
        "```\n",
        "Recall(average=\"macro\") == Balanced Accuracy\n",
        "```"
      ]
    },
    {
      "cell_type": "markdown",
      "metadata": {
        "id": "1YRp-_JtOCTr"
      },
      "source": [
        "### Resnet 34 with size 224"
      ]
    },
    {
      "cell_type": "code",
      "metadata": {
        "colab": {
          "base_uri": "https://localhost:8080/"
        },
        "id": "0YtS22Y0OLjK",
        "outputId": "2737fbbd-19bf-4398-b9ae-0a0c1526b124"
      },
      "source": [
        "transformed_data = src.transform(tfms, size=224)"
      ],
      "execution_count": 47,
      "outputs": [
        {
          "output_type": "stream",
          "text": [
            "/usr/local/lib/python3.7/dist-packages/torch/nn/functional.py:3503: UserWarning: The default behavior for interpolate/upsample with float scale_factor changed in 1.6.0 to align with other frameworks/libraries, and now uses scale_factor directly, instead of relying on the computed output size. If you wish to restore the old behavior, please set recompute_scale_factor=True. See the documentation of nn.Upsample for details. \n",
            "  \"The default behavior for interpolate/upsample with float scale_factor changed \"\n",
            "/usr/local/lib/python3.7/dist-packages/torch/nn/functional.py:3503: UserWarning: The default behavior for interpolate/upsample with float scale_factor changed in 1.6.0 to align with other frameworks/libraries, and now uses scale_factor directly, instead of relying on the computed output size. If you wish to restore the old behavior, please set recompute_scale_factor=True. See the documentation of nn.Upsample for details. \n",
            "  \"The default behavior for interpolate/upsample with float scale_factor changed \"\n"
          ],
          "name": "stderr"
        }
      ]
    },
    {
      "cell_type": "code",
      "metadata": {
        "id": "z_JIBSjpOPLe",
        "colab": {
          "base_uri": "https://localhost:8080/"
        },
        "outputId": "515e428e-b9c8-4abf-b704-20539bc7f52d"
      },
      "source": [
        "\n",
        "db = transformed_data.databunch(bs=16, num_workers=4)\n",
        "\n",
        "print(db)\n"
      ],
      "execution_count": 74,
      "outputs": [
        {
          "output_type": "stream",
          "text": [
            "ImageDataBunch;\n",
            "\n",
            "Train: LabelList (42245 items)\n",
            "x: ImageList\n",
            "Image (3, 224, 224),Image (3, 224, 224),Image (3, 224, 224),Image (3, 224, 224),Image (3, 224, 224)\n",
            "y: CategoryList\n",
            "0,0,0,0,0\n",
            "Path: .;\n",
            "\n",
            "Valid: LabelList (998 items)\n",
            "x: ImageList\n",
            "Image (3, 224, 224),Image (3, 224, 224),Image (3, 224, 224),Image (3, 224, 224),Image (3, 224, 224)\n",
            "y: CategoryList\n",
            "1,1,1,1,1\n",
            "Path: .;\n",
            "\n",
            "Test: None\n"
          ],
          "name": "stdout"
        }
      ]
    },
    {
      "cell_type": "markdown",
      "metadata": {
        "id": "euEElV9FCOQD"
      },
      "source": [
        "data.train_dl.batch_size"
      ]
    },
    {
      "cell_type": "code",
      "metadata": {
        "colab": {
          "base_uri": "https://localhost:8080/"
        },
        "id": "IedMQDjQCbtw",
        "outputId": "288f264b-0e15-455d-f9e6-8572c35c46ab"
      },
      "source": [
        "db.show_batch"
      ],
      "execution_count": 73,
      "outputs": [
        {
          "output_type": "execute_result",
          "data": {
            "text/plain": [
              "<bound method DataBunch.show_batch of ImageDataBunch;\n",
              "\n",
              "Train: LabelList (42245 items)\n",
              "x: ImageList\n",
              "Image (3, 224, 224),Image (3, 224, 224),Image (3, 224, 224),Image (3, 224, 224),Image (3, 224, 224)\n",
              "y: CategoryList\n",
              "0,0,0,0,0\n",
              "Path: .;\n",
              "\n",
              "Valid: LabelList (998 items)\n",
              "x: ImageList\n",
              "Image (3, 224, 224),Image (3, 224, 224),Image (3, 224, 224),Image (3, 224, 224),Image (3, 224, 224)\n",
              "y: CategoryList\n",
              "1,1,1,1,1\n",
              "Path: .;\n",
              "\n",
              "Test: None>"
            ]
          },
          "metadata": {
            "tags": []
          },
          "execution_count": 73
        }
      ]
    },
    {
      "cell_type": "code",
      "metadata": {
        "colab": {
          "base_uri": "https://localhost:8080/",
          "height": 112
        },
        "id": "YHu7efRtA4Ab",
        "outputId": "699f4805-7a1a-4c6b-b6dd-bdce8065098f"
      },
      "source": [
        "\n",
        "learn = cnn_learner(db, models.resnet34, metrics=error_rate)\n",
        "learn.lr_find()\n",
        "\n",
        "\n",
        "\n",
        "\n",
        "#print(learn)\n",
        "\n",
        "#learn = cnn_learner(dataset1, models.resnet34, metrics=Recall(average=\"macro\"))\n",
        "#learn.fit_one_cycle(5)"
      ],
      "execution_count": 75,
      "outputs": [
        {
          "output_type": "display_data",
          "data": {
            "text/html": [
              "\n",
              "    <div>\n",
              "        <style>\n",
              "            /* Turns off some styling */\n",
              "            progress {\n",
              "                /* gets rid of default border in Firefox and Opera. */\n",
              "                border: none;\n",
              "                /* Needs to be in here for Safari polyfill so background images work as expected. */\n",
              "                background-size: auto;\n",
              "            }\n",
              "            .progress-bar-interrupted, .progress-bar-interrupted::-webkit-progress-bar {\n",
              "                background: #F44336;\n",
              "            }\n",
              "        </style>\n",
              "      <progress value='0' class='' max='1' style='width:300px; height:20px; vertical-align: middle;'></progress>\n",
              "      0.00% [0/1 00:00<00:00]\n",
              "    </div>\n",
              "    \n",
              "<table border=\"1\" class=\"dataframe\">\n",
              "  <thead>\n",
              "    <tr style=\"text-align: left;\">\n",
              "      <th>epoch</th>\n",
              "      <th>train_loss</th>\n",
              "      <th>valid_loss</th>\n",
              "      <th>error_rate</th>\n",
              "      <th>time</th>\n",
              "    </tr>\n",
              "  </thead>\n",
              "  <tbody>\n",
              "  </tbody>\n",
              "</table><p>\n",
              "\n",
              "    <div>\n",
              "        <style>\n",
              "            /* Turns off some styling */\n",
              "            progress {\n",
              "                /* gets rid of default border in Firefox and Opera. */\n",
              "                border: none;\n",
              "                /* Needs to be in here for Safari polyfill so background images work as expected. */\n",
              "                background-size: auto;\n",
              "            }\n",
              "            .progress-bar-interrupted, .progress-bar-interrupted::-webkit-progress-bar {\n",
              "                background: #F44336;\n",
              "            }\n",
              "        </style>\n",
              "      <progress value='88' class='' max='2640' style='width:300px; height:20px; vertical-align: middle;'></progress>\n",
              "      3.33% [88/2640 00:36<17:37 9.8116]\n",
              "    </div>\n",
              "    "
            ],
            "text/plain": [
              "<IPython.core.display.HTML object>"
            ]
          },
          "metadata": {
            "tags": []
          }
        },
        {
          "output_type": "stream",
          "text": [
            "LR Finder is complete, type {learner_name}.recorder.plot() to see the graph.\n"
          ],
          "name": "stdout"
        }
      ]
    },
    {
      "cell_type": "code",
      "metadata": {
        "colab": {
          "base_uri": "https://localhost:8080/",
          "height": 279
        },
        "id": "rbq-Z4D5UVDy",
        "outputId": "63fe16a5-cc0f-429d-bfff-2ddec278b0fd"
      },
      "source": [
        "learn.recorder.plot()"
      ],
      "execution_count": 78,
      "outputs": [
        {
          "output_type": "display_data",
          "data": {
            "image/png": "[encoded data removed]",
            "text/plain": [
              "<Figure size 432x288 with 1 Axes>"
            ]
          },
          "metadata": {
            "tags": [],
            "needs_background": "light"
          }
        }
      ]
    },
    {
      "cell_type": "code",
      "metadata": {
        "colab": {
          "base_uri": "https://localhost:8080/",
          "height": 142
        },
        "id": "9z5kDqDVUiVc",
        "outputId": "fb7853af-6d4a-49f5-d16b-08b6fbd474fd"
      },
      "source": [
        "learn.fit(epochs=3, lr= 3e-3)"
      ],
      "execution_count": 80,
      "outputs": [
        {
          "output_type": "display_data",
          "data": {
            "text/html": [
              "<table border=\"1\" class=\"dataframe\">\n",
              "  <thead>\n",
              "    <tr style=\"text-align: left;\">\n",
              "      <th>epoch</th>\n",
              "      <th>train_loss</th>\n",
              "      <th>valid_loss</th>\n",
              "      <th>error_rate</th>\n",
              "      <th>time</th>\n",
              "    </tr>\n",
              "  </thead>\n",
              "  <tbody>\n",
              "    <tr>\n",
              "      <td>0</td>\n",
              "      <td>0.849461</td>\n",
              "      <td>0.833860</td>\n",
              "      <td>0.357715</td>\n",
              "      <td>17:25</td>\n",
              "    </tr>\n",
              "    <tr>\n",
              "      <td>1</td>\n",
              "      <td>0.797085</td>\n",
              "      <td>0.659204</td>\n",
              "      <td>0.290581</td>\n",
              "      <td>17:47</td>\n",
              "    </tr>\n",
              "    <tr>\n",
              "      <td>2</td>\n",
              "      <td>0.639436</td>\n",
              "      <td>0.596898</td>\n",
              "      <td>0.232465</td>\n",
              "      <td>17:48</td>\n",
              "    </tr>\n",
              "  </tbody>\n",
              "</table>"
            ],
            "text/plain": [
              "<IPython.core.display.HTML object>"
            ]
          },
          "metadata": {
            "tags": []
          }
        }
      ]
    },
    {
      "cell_type": "code",
      "metadata": {
        "colab": {
          "base_uri": "https://localhost:8080/",
          "height": 311
        },
        "id": "EogqplzG5n7L",
        "outputId": "54d663fb-aaa7-45af-8236-8a50a43d6ffc"
      },
      "source": [
        "interp = ClassificationInterpretation.from_learner(learn)\n",
        "interp.plot_confusion_matrix()"
      ],
      "execution_count": 81,
      "outputs": [
        {
          "output_type": "display_data",
          "data": {
            "text/html": [
              ""
            ],
            "text/plain": [
              "<IPython.core.display.HTML object>"
            ]
          },
          "metadata": {
            "tags": []
          }
        },
        {
          "output_type": "display_data",
          "data": {
            "image/png": "[encoded data removed]",
            "text/plain": [
              "<Figure size 432x288 with 1 Axes>"
            ]
          },
          "metadata": {
            "tags": [],
            "needs_background": "light"
          }
        }
      ]
    },
    {
      "cell_type": "code",
      "metadata": {
        "colab": {
          "base_uri": "https://localhost:8080/",
          "height": 279
        },
        "id": "5ApYwuqASrK0",
        "outputId": "afda45ff-c20c-4289-9e50-194615f383e0"
      },
      "source": [
        "learn.recorder.plot()"
      ],
      "execution_count": 70,
      "outputs": [
        {
          "output_type": "display_data",
          "data": {
            "image/png": "[encoded data removed]",
            "text/plain": [
              "<Figure size 432x288 with 1 Axes>"
            ]
          },
          "metadata": {
            "tags": [],
            "needs_background": "light"
          }
        }
      ]
    },
    {
      "cell_type": "code",
      "metadata": {
        "colab": {
          "base_uri": "https://localhost:8080/",
          "height": 35
        },
        "id": "p4U7076sOWEf",
        "outputId": "67ccadff-c28d-45a9-a2a5-8317a65b20d4"
      },
      "source": [
        "# After training every stage I copy it to my drive.\n",
        "learn.save('stage1-sz224-rn34')\n",
        "shutil.copy2(\"./models/stage1-sz224-rn34.pth\", \"./drive/My Drive/Colab Notebooks/Data/models/models\")"
      ],
      "execution_count": 83,
      "outputs": [
        {
          "output_type": "execute_result",
          "data": {
            "application/vnd.google.colaboratory.intrinsic+json": {
              "type": "string"
            },
            "text/plain": [
              "'./drive/My Drive/Colab Notebooks/Data/models/models'"
            ]
          },
          "metadata": {
            "tags": []
          },
          "execution_count": 83
        }
      ]
    },
    {
      "cell_type": "code",
      "metadata": {
        "colab": {
          "base_uri": "https://localhost:8080/"
        },
        "id": "uBDQrw6nOghz",
        "outputId": "7af0b5de-0599-4d26-ee75-3795fd88d0b1"
      },
      "source": [
        "learn.save('stage2-sz224-rn34')\n",
        "shutil.copy2(\"./models/stage2-sz224-rn34.pth\", \"./drive/My Drive/Colab Notebooks/Data/models/\")"
      ],
      "execution_count": null,
      "outputs": [
        {
          "output_type": "execute_result",
          "data": {
            "application/vnd.google.colaboratory.intrinsic+json": {
              "type": "string"
            },
            "text/plain": [
              "'./drive/My Drive/Colab Notebooks/Data/models/stage2-sz224-rn34.pth'"
            ]
          },
          "metadata": {
            "tags": []
          },
          "execution_count": 38
        }
      ]
    },
    {
      "cell_type": "markdown",
      "metadata": {
        "id": "i9bAenl_khCD"
      },
      "source": [
        "### Resnet 34"
      ]
    },
    {
      "cell_type": "markdown",
      "metadata": {
        "id": "DjtZv2ASlw4O"
      },
      "source": [
        "#### Size 64"
      ]
    },
    {
      "cell_type": "code",
      "metadata": {
        "id": "JEUXTOjj1tgl"
      },
      "source": [
        "transformed_data = src.transform(tfms, size=64)\n",
        "           "
      ],
      "execution_count": 91,
      "outputs": []
    },
    {
      "cell_type": "code",
      "metadata": {
        "id": "23Ltj1CkQfdh"
      },
      "source": [
        "db = transformed_data.databunch(bs=16,num_workers=5)"
      ],
      "execution_count": 92,
      "outputs": []
    },
    {
      "cell_type": "code",
      "metadata": {
        "colab": {
          "base_uri": "https://localhost:8080/"
        },
        "id": "W3AYNWig3IIM",
        "outputId": "69aaa243-ab60-4d4a-c9df-e9a4a155fb89"
      },
      "source": [
        "print(db)"
      ],
      "execution_count": 94,
      "outputs": [
        {
          "output_type": "stream",
          "text": [
            "ImageDataBunch;\n",
            "\n",
            "Train: LabelList (42245 items)\n",
            "x: ImageList\n",
            "Image (3, 64, 64),Image (3, 64, 64),Image (3, 64, 64),Image (3, 64, 64),Image (3, 64, 64)\n",
            "y: CategoryList\n",
            "0,0,0,0,0\n",
            "Path: .;\n",
            "\n",
            "Valid: LabelList (998 items)\n",
            "x: ImageList\n",
            "Image (3, 64, 64),Image (3, 64, 64),Image (3, 64, 64),Image (3, 64, 64),Image (3, 64, 64)\n",
            "y: CategoryList\n",
            "1,1,1,1,1\n",
            "Path: .;\n",
            "\n",
            "Test: None\n"
          ],
          "name": "stdout"
        }
      ]
    },
    {
      "cell_type": "code",
      "metadata": {
        "colab": {
          "base_uri": "https://localhost:8080/"
        },
        "id": "5_uN13vE3NrF",
        "outputId": "74013ac3-e6f9-4f45-850a-5e1af24d8a03"
      },
      "source": [
        "data.classes, data.c"
      ],
      "execution_count": null,
      "outputs": [
        {
          "output_type": "execute_result",
          "data": {
            "text/plain": [
              "([0, 1, 2, 3, 4, 5, 6], 7)"
            ]
          },
          "metadata": {
            "tags": []
          },
          "execution_count": 44
        }
      ]
    },
    {
      "cell_type": "code",
      "metadata": {
        "colab": {
          "base_uri": "https://localhost:8080/"
        },
        "id": "Km6maiZNqZwP",
        "outputId": "4a8a5ebe-6247-4824-914c-c885a6b93ab9"
      },
      "source": [
        "db.show_batch"
      ],
      "execution_count": 95,
      "outputs": [
        {
          "output_type": "execute_result",
          "data": {
            "text/plain": [
              "<bound method DataBunch.show_batch of ImageDataBunch;\n",
              "\n",
              "Train: LabelList (42245 items)\n",
              "x: ImageList\n",
              "Image (3, 64, 64),Image (3, 64, 64),Image (3, 64, 64),Image (3, 64, 64),Image (3, 64, 64)\n",
              "y: CategoryList\n",
              "0,0,0,0,0\n",
              "Path: .;\n",
              "\n",
              "Valid: LabelList (998 items)\n",
              "x: ImageList\n",
              "Image (3, 64, 64),Image (3, 64, 64),Image (3, 64, 64),Image (3, 64, 64),Image (3, 64, 64)\n",
              "y: CategoryList\n",
              "1,1,1,1,1\n",
              "Path: .;\n",
              "\n",
              "Test: None>"
            ]
          },
          "metadata": {
            "tags": []
          },
          "execution_count": 95
        }
      ]
    },
    {
      "cell_type": "code",
      "metadata": {
        "id": "uqpE5YqY3mLi"
      },
      "source": [
        "learn = cnn_learner(db, models.resnet34, metrics=[Recall(average=\"macro\"),error_rate])"
      ],
      "execution_count": 96,
      "outputs": []
    },
    {
      "cell_type": "code",
      "metadata": {
        "colab": {
          "base_uri": "https://localhost:8080/",
          "height": 112
        },
        "id": "e5hZNws43vua",
        "outputId": "2db486ce-1987-4f8f-c558-14f56a6a7ca4"
      },
      "source": [
        "learn.lr_find()"
      ],
      "execution_count": 97,
      "outputs": [
        {
          "output_type": "display_data",
          "data": {
            "text/html": [
              "\n",
              "    <div>\n",
              "        <style>\n",
              "            /* Turns off some styling */\n",
              "            progress {\n",
              "                /* gets rid of default border in Firefox and Opera. */\n",
              "                border: none;\n",
              "                /* Needs to be in here for Safari polyfill so background images work as expected. */\n",
              "                background-size: auto;\n",
              "            }\n",
              "            .progress-bar-interrupted, .progress-bar-interrupted::-webkit-progress-bar {\n",
              "                background: #F44336;\n",
              "            }\n",
              "        </style>\n",
              "      <progress value='0' class='' max='1' style='width:300px; height:20px; vertical-align: middle;'></progress>\n",
              "      0.00% [0/1 00:00<00:00]\n",
              "    </div>\n",
              "    \n",
              "<table border=\"1\" class=\"dataframe\">\n",
              "  <thead>\n",
              "    <tr style=\"text-align: left;\">\n",
              "      <th>epoch</th>\n",
              "      <th>train_loss</th>\n",
              "      <th>valid_loss</th>\n",
              "      <th>recall</th>\n",
              "      <th>error_rate</th>\n",
              "      <th>time</th>\n",
              "    </tr>\n",
              "  </thead>\n",
              "  <tbody>\n",
              "  </tbody>\n",
              "</table><p>\n",
              "\n",
              "    <div>\n",
              "        <style>\n",
              "            /* Turns off some styling */\n",
              "            progress {\n",
              "                /* gets rid of default border in Firefox and Opera. */\n",
              "                border: none;\n",
              "                /* Needs to be in here for Safari polyfill so background images work as expected. */\n",
              "                background-size: auto;\n",
              "            }\n",
              "            .progress-bar-interrupted, .progress-bar-interrupted::-webkit-progress-bar {\n",
              "                background: #F44336;\n",
              "            }\n",
              "        </style>\n",
              "      <progress value='88' class='' max='2640' style='width:300px; height:20px; vertical-align: middle;'></progress>\n",
              "      3.33% [88/2640 00:19<09:39 10.8443]\n",
              "    </div>\n",
              "    "
            ],
            "text/plain": [
              "<IPython.core.display.HTML object>"
            ]
          },
          "metadata": {
            "tags": []
          }
        },
        {
          "output_type": "stream",
          "text": [
            "LR Finder is complete, type {learner_name}.recorder.plot() to see the graph.\n"
          ],
          "name": "stdout"
        }
      ]
    },
    {
      "cell_type": "code",
      "metadata": {
        "colab": {
          "base_uri": "https://localhost:8080/",
          "height": 279
        },
        "id": "nEiuADTprEcD",
        "outputId": "ec702a5a-da1c-402d-eaa0-2aa615067f9e"
      },
      "source": [
        "learn.recorder.plot()"
      ],
      "execution_count": 98,
      "outputs": [
        {
          "output_type": "display_data",
          "data": {
            "image/png": "[encoded data removed]",
            "text/plain": [
              "<Figure size 432x288 with 1 Axes>"
            ]
          },
          "metadata": {
            "tags": [],
            "needs_background": "light"
          }
        }
      ]
    },
    {
      "cell_type": "code",
      "metadata": {
        "colab": {
          "base_uri": "https://localhost:8080/",
          "height": 142
        },
        "id": "GuEl39Q5rq1i",
        "outputId": "5874482a-36f4-4c58-e3f6-de3bd1e068c0"
      },
      "source": [
        "learn.fit(epochs=3,lr=3e-3)"
      ],
      "execution_count": 99,
      "outputs": [
        {
          "output_type": "display_data",
          "data": {
            "text/html": [
              "<table border=\"1\" class=\"dataframe\">\n",
              "  <thead>\n",
              "    <tr style=\"text-align: left;\">\n",
              "      <th>epoch</th>\n",
              "      <th>train_loss</th>\n",
              "      <th>valid_loss</th>\n",
              "      <th>recall</th>\n",
              "      <th>error_rate</th>\n",
              "      <th>time</th>\n",
              "    </tr>\n",
              "  </thead>\n",
              "  <tbody>\n",
              "    <tr>\n",
              "      <td>0</td>\n",
              "      <td>1.207494</td>\n",
              "      <td>1.055213</td>\n",
              "      <td>0.612166</td>\n",
              "      <td>0.429860</td>\n",
              "      <td>09:49</td>\n",
              "    </tr>\n",
              "    <tr>\n",
              "      <td>1</td>\n",
              "      <td>1.024040</td>\n",
              "      <td>0.899484</td>\n",
              "      <td>0.661335</td>\n",
              "      <td>0.375751</td>\n",
              "      <td>09:56</td>\n",
              "    </tr>\n",
              "    <tr>\n",
              "      <td>2</td>\n",
              "      <td>0.966313</td>\n",
              "      <td>0.965804</td>\n",
              "      <td>0.657123</td>\n",
              "      <td>0.403808</td>\n",
              "      <td>09:51</td>\n",
              "    </tr>\n",
              "  </tbody>\n",
              "</table>"
            ],
            "text/plain": [
              "<IPython.core.display.HTML object>"
            ]
          },
          "metadata": {
            "tags": []
          }
        }
      ]
    },
    {
      "cell_type": "code",
      "metadata": {
        "colab": {
          "base_uri": "https://localhost:8080/",
          "height": 35
        },
        "id": "1LigeJNqZZJU",
        "outputId": "bbc6837c-0a97-4906-eb98-894215ae6370"
      },
      "source": [
        "learn.save('stage1-sz64-rn34')\n",
        "shutil.copy2(\"./models/stage1-sz64-rn34.pth\", \"./drive/My Drive/Colab Notebooks/Data/models/models\")"
      ],
      "execution_count": 100,
      "outputs": [
        {
          "output_type": "execute_result",
          "data": {
            "application/vnd.google.colaboratory.intrinsic+json": {
              "type": "string"
            },
            "text/plain": [
              "'./drive/My Drive/Colab Notebooks/Data/models/models'"
            ]
          },
          "metadata": {
            "tags": []
          },
          "execution_count": 100
        }
      ]
    },
    {
      "cell_type": "code",
      "metadata": {
        "id": "f7i36MoiXmhP"
      },
      "source": [
        "learn.unfreeze()"
      ],
      "execution_count": 101,
      "outputs": []
    },
    {
      "cell_type": "code",
      "metadata": {
        "colab": {
          "base_uri": "https://localhost:8080/",
          "height": 204
        },
        "id": "__rSJF4LXvos",
        "outputId": "633bb4d1-13bc-436a-cf70-e4ddec2582c2"
      },
      "source": [
        "learn.fit_one_cycle(5, slice(1e-6, 1e-4))"
      ],
      "execution_count": 102,
      "outputs": [
        {
          "output_type": "display_data",
          "data": {
            "text/html": [
              "<table border=\"1\" class=\"dataframe\">\n",
              "  <thead>\n",
              "    <tr style=\"text-align: left;\">\n",
              "      <th>epoch</th>\n",
              "      <th>train_loss</th>\n",
              "      <th>valid_loss</th>\n",
              "      <th>recall</th>\n",
              "      <th>error_rate</th>\n",
              "      <th>time</th>\n",
              "    </tr>\n",
              "  </thead>\n",
              "  <tbody>\n",
              "    <tr>\n",
              "      <td>0</td>\n",
              "      <td>0.963600</td>\n",
              "      <td>0.823003</td>\n",
              "      <td>0.699348</td>\n",
              "      <td>0.341683</td>\n",
              "      <td>09:57</td>\n",
              "    </tr>\n",
              "    <tr>\n",
              "      <td>1</td>\n",
              "      <td>0.926202</td>\n",
              "      <td>0.808595</td>\n",
              "      <td>0.682555</td>\n",
              "      <td>0.356713</td>\n",
              "      <td>09:55</td>\n",
              "    </tr>\n",
              "    <tr>\n",
              "      <td>2</td>\n",
              "      <td>0.853513</td>\n",
              "      <td>0.703064</td>\n",
              "      <td>0.712368</td>\n",
              "      <td>0.289579</td>\n",
              "      <td>09:53</td>\n",
              "    </tr>\n",
              "    <tr>\n",
              "      <td>3</td>\n",
              "      <td>0.794052</td>\n",
              "      <td>0.762825</td>\n",
              "      <td>0.711880</td>\n",
              "      <td>0.307615</td>\n",
              "      <td>09:56</td>\n",
              "    </tr>\n",
              "    <tr>\n",
              "      <td>4</td>\n",
              "      <td>0.794869</td>\n",
              "      <td>0.755539</td>\n",
              "      <td>0.711191</td>\n",
              "      <td>0.300601</td>\n",
              "      <td>10:03</td>\n",
              "    </tr>\n",
              "  </tbody>\n",
              "</table>"
            ],
            "text/plain": [
              "<IPython.core.display.HTML object>"
            ]
          },
          "metadata": {
            "tags": []
          }
        }
      ]
    },
    {
      "cell_type": "code",
      "metadata": {
        "colab": {
          "base_uri": "https://localhost:8080/",
          "height": 35
        },
        "id": "ncSSzRnAgt-i",
        "outputId": "5d2f2466-471d-490f-9e37-da8e4c4c9404"
      },
      "source": [
        "learn.save('stage2-sz64-rn34')\n",
        "shutil.copy2(\"./models/stage2-sz64-rn34.pth\", \"./drive/My Drive/Colab Notebooks/Data/models/models\")"
      ],
      "execution_count": 104,
      "outputs": [
        {
          "output_type": "execute_result",
          "data": {
            "application/vnd.google.colaboratory.intrinsic+json": {
              "type": "string"
            },
            "text/plain": [
              "'./drive/My Drive/Colab Notebooks/Data/models/models'"
            ]
          },
          "metadata": {
            "tags": []
          },
          "execution_count": 104
        }
      ]
    },
    {
      "cell_type": "markdown",
      "metadata": {
        "id": "lxzOTRZIlSXy"
      },
      "source": [
        "### Resnet 101"
      ]
    },
    {
      "cell_type": "code",
      "metadata": {
        "id": "rk8H17y5jJoD"
      },
      "source": [
        "data = (src.transform(tfms, size=224)\n",
        "        .databunch(bs=16,num_workers=6).normalize(imagenet_stats))"
      ],
      "execution_count": 105,
      "outputs": []
    },
    {
      "cell_type": "code",
      "metadata": {
        "colab": {
          "base_uri": "https://localhost:8080/",
          "height": 83,
          "referenced_widgets": [
            "0a75b441ec734ef695f5c6ea9171b19e",
            "ce71b83d0cf046d59d73b85f73eb3b12",
            "c7cbf69980004952b7a1e04aac6a9873",
            "7518e91624e74db6bc8000a890d29fa9",
            "2db03a19f15b47a8808b82bf4979ff16",
            "2e41b643a6344d9ea45c7b2c37503763",
            "7a77ef38571c4a96b33f22556574e706",
            "7f52be66265043fa9e2032e49aeffc16"
          ]
        },
        "id": "SjJ_bDns9xN-",
        "outputId": "552f3a4e-a24d-4746-c834-1b4fc9420b8a"
      },
      "source": [
        "learn = cnn_learner(data, models.resnet101, metrics=[Recall(average=\"macro\"),error_rate])"
      ],
      "execution_count": 106,
      "outputs": [
        {
          "output_type": "stream",
          "text": [
            "Downloading: \"https://download.pytorch.org/models/resnet101-5d3b4d8f.pth\" to /root/.cache/torch/hub/checkpoints/resnet101-5d3b4d8f.pth\n"
          ],
          "name": "stderr"
        },
        {
          "output_type": "display_data",
          "data": {
            "application/vnd.jupyter.widget-view+json": {
              "model_id": "0a75b441ec734ef695f5c6ea9171b19e",
              "version_minor": 0,
              "version_major": 2
            },
            "text/plain": [
              "HBox(children=(FloatProgress(value=0.0, max=178728960.0), HTML(value='')))"
            ]
          },
          "metadata": {
            "tags": []
          }
        },
        {
          "output_type": "stream",
          "text": [
            "\n"
          ],
          "name": "stdout"
        }
      ]
    },
    {
      "cell_type": "code",
      "metadata": {
        "colab": {
          "base_uri": "https://localhost:8080/",
          "height": 112
        },
        "id": "5b9FqigHjgrV",
        "outputId": "0b0de5d2-a57b-4c99-9f14-f78c44ca1e7e"
      },
      "source": [
        "learn.unfreeze()\n",
        "learn.lr_find()\n"
      ],
      "execution_count": 107,
      "outputs": [
        {
          "output_type": "display_data",
          "data": {
            "text/html": [
              "\n",
              "    <div>\n",
              "        <style>\n",
              "            /* Turns off some styling */\n",
              "            progress {\n",
              "                /* gets rid of default border in Firefox and Opera. */\n",
              "                border: none;\n",
              "                /* Needs to be in here for Safari polyfill so background images work as expected. */\n",
              "                background-size: auto;\n",
              "            }\n",
              "            .progress-bar-interrupted, .progress-bar-interrupted::-webkit-progress-bar {\n",
              "                background: #F44336;\n",
              "            }\n",
              "        </style>\n",
              "      <progress value='0' class='' max='1' style='width:300px; height:20px; vertical-align: middle;'></progress>\n",
              "      0.00% [0/1 00:00<00:00]\n",
              "    </div>\n",
              "    \n",
              "<table border=\"1\" class=\"dataframe\">\n",
              "  <thead>\n",
              "    <tr style=\"text-align: left;\">\n",
              "      <th>epoch</th>\n",
              "      <th>train_loss</th>\n",
              "      <th>valid_loss</th>\n",
              "      <th>recall</th>\n",
              "      <th>error_rate</th>\n",
              "      <th>time</th>\n",
              "    </tr>\n",
              "  </thead>\n",
              "  <tbody>\n",
              "  </tbody>\n",
              "</table><p>\n",
              "\n",
              "    <div>\n",
              "        <style>\n",
              "            /* Turns off some styling */\n",
              "            progress {\n",
              "                /* gets rid of default border in Firefox and Opera. */\n",
              "                border: none;\n",
              "                /* Needs to be in here for Safari polyfill so background images work as expected. */\n",
              "                background-size: auto;\n",
              "            }\n",
              "            .progress-bar-interrupted, .progress-bar-interrupted::-webkit-progress-bar {\n",
              "                background: #F44336;\n",
              "            }\n",
              "        </style>\n",
              "      <progress value='88' class='' max='2640' style='width:300px; height:20px; vertical-align: middle;'></progress>\n",
              "      3.33% [88/2640 00:41<20:05 11.3908]\n",
              "    </div>\n",
              "    "
            ],
            "text/plain": [
              "<IPython.core.display.HTML object>"
            ]
          },
          "metadata": {
            "tags": []
          }
        },
        {
          "output_type": "stream",
          "text": [
            "LR Finder is complete, type {learner_name}.recorder.plot() to see the graph.\n"
          ],
          "name": "stdout"
        }
      ]
    },
    {
      "cell_type": "code",
      "metadata": {
        "colab": {
          "base_uri": "https://localhost:8080/",
          "height": 279
        },
        "id": "A4QXSikV-DwH",
        "outputId": "de96b5c5-6dc3-4a4c-a67a-f40a98bd637f"
      },
      "source": [
        "learn.recorder.plot()"
      ],
      "execution_count": 108,
      "outputs": [
        {
          "output_type": "display_data",
          "data": {
            "image/png": "[encoded data removed]",
            "text/plain": [
              "<Figure size 432x288 with 1 Axes>"
            ]
          },
          "metadata": {
            "tags": [],
            "needs_background": "light"
          }
        }
      ]
    },
    {
      "cell_type": "code",
      "metadata": {
        "colab": {
          "base_uri": "https://localhost:8080/",
          "height": 204
        },
        "id": "Z3IzAuNnjuHG",
        "outputId": "73983f77-e35f-4261-a342-c8e20778934a"
      },
      "source": [
        "learn.fit_one_cycle(5,slice(1e-4,1e-3))"
      ],
      "execution_count": 109,
      "outputs": [
        {
          "output_type": "display_data",
          "data": {
            "text/html": [
              "<table border=\"1\" class=\"dataframe\">\n",
              "  <thead>\n",
              "    <tr style=\"text-align: left;\">\n",
              "      <th>epoch</th>\n",
              "      <th>train_loss</th>\n",
              "      <th>valid_loss</th>\n",
              "      <th>recall</th>\n",
              "      <th>error_rate</th>\n",
              "      <th>time</th>\n",
              "    </tr>\n",
              "  </thead>\n",
              "  <tbody>\n",
              "    <tr>\n",
              "      <td>0</td>\n",
              "      <td>0.963758</td>\n",
              "      <td>0.982127</td>\n",
              "      <td>0.675147</td>\n",
              "      <td>0.365731</td>\n",
              "      <td>19:33</td>\n",
              "    </tr>\n",
              "    <tr>\n",
              "      <td>1</td>\n",
              "      <td>0.649910</td>\n",
              "      <td>0.698014</td>\n",
              "      <td>0.754548</td>\n",
              "      <td>0.309619</td>\n",
              "      <td>19:32</td>\n",
              "    </tr>\n",
              "    <tr>\n",
              "      <td>2</td>\n",
              "      <td>0.523116</td>\n",
              "      <td>0.439925</td>\n",
              "      <td>0.782865</td>\n",
              "      <td>0.168337</td>\n",
              "      <td>19:59</td>\n",
              "    </tr>\n",
              "    <tr>\n",
              "      <td>3</td>\n",
              "      <td>0.351479</td>\n",
              "      <td>0.422253</td>\n",
              "      <td>0.809630</td>\n",
              "      <td>0.170341</td>\n",
              "      <td>19:49</td>\n",
              "    </tr>\n",
              "    <tr>\n",
              "      <td>4</td>\n",
              "      <td>0.305457</td>\n",
              "      <td>0.380266</td>\n",
              "      <td>0.858692</td>\n",
              "      <td>0.148297</td>\n",
              "      <td>19:43</td>\n",
              "    </tr>\n",
              "  </tbody>\n",
              "</table>"
            ],
            "text/plain": [
              "<IPython.core.display.HTML object>"
            ]
          },
          "metadata": {
            "tags": []
          }
        }
      ]
    },
    {
      "cell_type": "code",
      "metadata": {
        "colab": {
          "base_uri": "https://localhost:8080/",
          "height": 35
        },
        "id": "jd2Jz9lwjqTw",
        "outputId": "6fbdce8d-04ea-4418-969b-863cae9460ba"
      },
      "source": [
        "learn.save('stage1-sz224-rn101')\n",
        "shutil.copy2(\"./models/stage1-sz224-rn101.pth\", \"./drive/My Drive/Colab Notebooks/Data/models/models\")"
      ],
      "execution_count": 111,
      "outputs": [
        {
          "output_type": "execute_result",
          "data": {
            "application/vnd.google.colaboratory.intrinsic+json": {
              "type": "string"
            },
            "text/plain": [
              "'./drive/My Drive/Colab Notebooks/Data/models/models'"
            ]
          },
          "metadata": {
            "tags": []
          },
          "execution_count": 111
        }
      ]
    },
    {
      "cell_type": "code",
      "metadata": {
        "colab": {
          "base_uri": "https://localhost:8080/",
          "height": 311
        },
        "id": "gBQBPmklSxZP",
        "outputId": "d79ecac7-6aff-453d-e4f1-7d1dfbe3ed0b"
      },
      "source": [
        "interp = ClassificationInterpretation.from_learner(learn)\n",
        "interp.plot_confusion_matrix()"
      ],
      "execution_count": 112,
      "outputs": [
        {
          "output_type": "display_data",
          "data": {
            "text/html": [
              ""
            ],
            "text/plain": [
              "<IPython.core.display.HTML object>"
            ]
          },
          "metadata": {
            "tags": []
          }
        },
        {
          "output_type": "display_data",
          "data": {
            "image/png": "[encoded data removed]",
            "text/plain": [
              "<Figure size 432x288 with 1 Axes>"
            ]
          },
          "metadata": {
            "tags": [],
            "needs_background": "light"
          }
        }
      ]
    },
    {
      "cell_type": "markdown",
      "metadata": {
        "id": "IJkW43sQRNb7"
      },
      "source": [
        "### Resnet 152"
      ]
    },
    {
      "cell_type": "code",
      "metadata": {
        "id": "iSWSYLokRRUE"
      },
      "source": [
        "data = (src.transform(tfms, size=224)\n",
        "        .databunch(bs=16,num_workers=5).normalize(imagenet_stats))"
      ],
      "execution_count": null,
      "outputs": []
    },
    {
      "cell_type": "code",
      "metadata": {
        "colab": {
          "base_uri": "https://localhost:8080/",
          "height": 229
        },
        "id": "8XL_-xVtRTap",
        "outputId": "75ad90d2-e358-44d9-ee15-e3dd87b1bd25"
      },
      "source": [
        "learn = cnn_learner(data, models.resnet152, metrics=[error_rate,accuracy,Recall(average=\"macro\")])\n",
        "learn.fit_one_cycle(4)"
      ],
      "execution_count": null,
      "outputs": [
        {
          "output_type": "stream",
          "text": [
            "Downloading: \"https://download.pytorch.org/models/resnet152-b121ed2d.pth\" to /root/.torch/models/resnet152-b121ed2d.pth\n",
            "241530880it [00:10, 22546052.11it/s]\n"
          ],
          "name": "stderr"
        },
        {
          "output_type": "display_data",
          "data": {
            "text/html": [
              "<table border=\"1\" class=\"dataframe\">\n",
              "  <thead>\n",
              "    <tr style=\"text-align: left;\">\n",
              "      <th>epoch</th>\n",
              "      <th>train_loss</th>\n",
              "      <th>valid_loss</th>\n",
              "      <th>recall</th>\n",
              "      <th>time</th>\n",
              "    </tr>\n",
              "  </thead>\n",
              "  <tbody>\n",
              "    <tr>\n",
              "      <td>0</td>\n",
              "      <td>0.785708</td>\n",
              "      <td>0.709159</td>\n",
              "      <td>0.739327</td>\n",
              "      <td>21:32</td>\n",
              "    </tr>\n",
              "    <tr>\n",
              "      <td>1</td>\n",
              "      <td>0.519026</td>\n",
              "      <td>0.645384</td>\n",
              "      <td>0.815162</td>\n",
              "      <td>21:44</td>\n",
              "    </tr>\n",
              "    <tr>\n",
              "      <td>2</td>\n",
              "      <td>0.409894</td>\n",
              "      <td>0.487464</td>\n",
              "      <td>0.832022</td>\n",
              "      <td>21:45</td>\n",
              "    </tr>\n",
              "    <tr>\n",
              "      <td>3</td>\n",
              "      <td>0.328334</td>\n",
              "      <td>0.452459</td>\n",
              "      <td>0.847651</td>\n",
              "      <td>22:01</td>\n",
              "    </tr>\n",
              "    <tr>\n",
              "      <td>4</td>\n",
              "      <td>0.307490</td>\n",
              "      <td>0.468136</td>\n",
              "      <td>0.849233</td>\n",
              "      <td>21:59</td>\n",
              "    </tr>\n",
              "  </tbody>\n",
              "</table>"
            ],
            "text/plain": [
              "<IPython.core.display.HTML object>"
            ]
          },
          "metadata": {
            "tags": []
          }
        }
      ]
    },
    {
      "cell_type": "code",
      "metadata": {
        "colab": {
          "base_uri": "https://localhost:8080/",
          "height": 34
        },
        "id": "NkHoGVHCRkvT",
        "outputId": "c34be439-d19f-4e04-a7f4-54b95dca2471"
      },
      "source": [
        "learn.save('stage1-sz224-rn152')\n",
        "shutil.copy2(\"./models/stage1-sz224-rn152.pth\", \"./drive/My Drive/Colab Notebooks/Data/models/models\")"
      ],
      "execution_count": null,
      "outputs": [
        {
          "output_type": "execute_result",
          "data": {
            "text/plain": [
              "'./drive/My Drive/Colab Notebooks/Data/models/stage1-sz224-rn152.pth'"
            ]
          },
          "metadata": {
            "tags": []
          },
          "execution_count": 13
        }
      ]
    },
    {
      "cell_type": "code",
      "metadata": {
        "colab": {
          "base_uri": "https://localhost:8080/",
          "height": 195
        },
        "id": "QU2i_3DlRqI8",
        "outputId": "69349c6e-937d-4515-83c6-1f5d28b48043"
      },
      "source": [
        "learn.unfreeze()\n",
        "learn.lr_find()\n",
        "learn.recorder.plot()\n"
      ],
      "execution_count": null,
      "outputs": [
        {
          "output_type": "display_data",
          "data": {
            "text/html": [
              "<table border=\"1\" class=\"dataframe\">\n",
              "  <thead>\n",
              "    <tr style=\"text-align: left;\">\n",
              "      <th>epoch</th>\n",
              "      <th>train_loss</th>\n",
              "      <th>valid_loss</th>\n",
              "      <th>recall</th>\n",
              "      <th>time</th>\n",
              "    </tr>\n",
              "  </thead>\n",
              "  <tbody>\n",
              "    <tr>\n",
              "      <td>0</td>\n",
              "      <td>0.286909</td>\n",
              "      <td>0.395956</td>\n",
              "      <td>0.855177</td>\n",
              "      <td>23:51</td>\n",
              "    </tr>\n",
              "    <tr>\n",
              "      <td>1</td>\n",
              "      <td>0.256752</td>\n",
              "      <td>0.413372</td>\n",
              "      <td>0.854086</td>\n",
              "      <td>23:14</td>\n",
              "    </tr>\n",
              "    <tr>\n",
              "      <td>2</td>\n",
              "      <td>0.214330</td>\n",
              "      <td>0.350319</td>\n",
              "      <td>0.857564</td>\n",
              "      <td>22:53</td>\n",
              "    </tr>\n",
              "    <tr>\n",
              "      <td>3</td>\n",
              "      <td>0.187390</td>\n",
              "      <td>0.351069</td>\n",
              "      <td>0.856926</td>\n",
              "      <td>22:40</td>\n",
              "    </tr>\n",
              "    <tr>\n",
              "      <td>4</td>\n",
              "      <td>0.169617</td>\n",
              "      <td>0.335280</td>\n",
              "      <td>0.848321</td>\n",
              "      <td>23:13</td>\n",
              "    </tr>\n",
              "  </tbody>\n",
              "</table>"
            ],
            "text/plain": [
              "<IPython.core.display.HTML object>"
            ]
          },
          "metadata": {
            "tags": []
          }
        }
      ]
    },
    {
      "cell_type": "code",
      "metadata": {
        "id": "-jDd-i9sCvOQ"
      },
      "source": [
        "learn.fit_one_cycle(2, slice(1e-6, 1e-4))"
      ],
      "execution_count": null,
      "outputs": []
    },
    {
      "cell_type": "code",
      "metadata": {
        "colab": {
          "base_uri": "https://localhost:8080/",
          "height": 34
        },
        "id": "ucHoubVZRsjW",
        "outputId": "9fb1b989-9e19-410c-d2ee-6bcdf84162df"
      },
      "source": [
        "learn.save('stage2-sz224-rn152')\n",
        "shutil.copy2(\"./models/stage2-sz224-rn152.pth\", \"./drive/My Drive/Colab Notebooks/Data/models/models\")"
      ],
      "execution_count": null,
      "outputs": [
        {
          "output_type": "execute_result",
          "data": {
            "text/plain": [
              "'./drive/My Drive/Colab Notebooks/Data/models/stage2-sz224-rn152.pth'"
            ]
          },
          "metadata": {
            "tags": []
          },
          "execution_count": 15
        }
      ]
    },
    {
      "cell_type": "markdown",
      "metadata": {
        "id": "t9RcFY1fDRrm"
      },
      "source": [
        "###  Focal Loss"
      ]
    },
    {
      "cell_type": "code",
      "metadata": {
        "id": "DEqK351KDX08"
      },
      "source": [
        "import torch\n",
        "import torch.nn as nn\n",
        "import torch.nn.functional as F"
      ],
      "execution_count": 113,
      "outputs": []
    },
    {
      "cell_type": "code",
      "metadata": {
        "id": "S8E_jI1JDP0z"
      },
      "source": [
        "# https://github.com/Hsuxu/Loss_ToolBox-PyTorch/blob/master/FocalLoss/FocalLoss.py\n",
        "class FocalLoss(nn.Module):\n",
        "    \"\"\"\n",
        "    This is a implementation of Focal Loss with smooth label cross entropy supported which is proposed in\n",
        "    'Focal Loss for Dense Object Detection. (https://arxiv.org/abs/1708.02002)'\n",
        "        Focal_Loss= -1*alpha*(1-pt)*log(pt)\n",
        "    :param num_class:\n",
        "    :param alpha: (tensor) 3D or 4D the scalar factor for this criterion\n",
        "    :param gamma: (float,double) gamma > 0 reduces the relative loss for well-classified examples (p>0.5) putting more\n",
        "                    focus on hard misclassified example\n",
        "    :param smooth: (float,double) smooth value when cross entropy\n",
        "    :param balance_index: (int) balance class index, should be specific when alpha is float\n",
        "    :param size_average: (bool, optional) By default, the losses are averaged over each loss element in the batch.\n",
        "    \"\"\"\n",
        "\n",
        "    def __init__(self, num_class, alpha=None, gamma=2, balance_index=-1, smooth=None, size_average=True):\n",
        "        super(FocalLoss, self).__init__()\n",
        "        self.num_class = num_class\n",
        "        self.alpha = alpha\n",
        "        self.gamma = gamma\n",
        "        self.smooth = smooth\n",
        "        self.size_average = size_average\n",
        "\n",
        "        if self.alpha is None:\n",
        "            self.alpha = torch.ones(self.num_class, 1)\n",
        "        elif isinstance(self.alpha, (list, np.ndarray)):\n",
        "            assert len(self.alpha) == self.num_class\n",
        "            self.alpha = torch.FloatTensor(alpha).view(self.num_class, 1)\n",
        "            self.alpha = self.alpha / self.alpha.sum()\n",
        "        elif isinstance(self.alpha, float):\n",
        "            alpha = torch.ones(self.num_class, 1)\n",
        "            alpha = alpha * (1 - self.alpha)\n",
        "            alpha[balance_index] = self.alpha\n",
        "            self.alpha = alpha\n",
        "        else:\n",
        "            raise TypeError('Not support alpha type')\n",
        "\n",
        "        if self.smooth is not None:\n",
        "            if self.smooth < 0 or self.smooth > 1.0:\n",
        "                raise ValueError('smooth value should be in [0,1]')\n",
        "\n",
        "    def forward(self, input, target):\n",
        "        logit = F.softmax(input, dim=1)\n",
        "\n",
        "        if logit.dim() > 2:\n",
        "            # N,C,d1,d2 -> N,C,m (m=d1*d2*...)\n",
        "            logit = logit.view(logit.size(0), logit.size(1), -1)\n",
        "            logit = logit.permute(0, 2, 1).contiguous()\n",
        "            logit = logit.view(-1, logit.size(-1))\n",
        "        target = target.view(-1, 1)\n",
        "\n",
        "        # N = input.size(0)\n",
        "        # alpha = torch.ones(N, self.num_class)\n",
        "        # alpha = alpha * (1 - self.alpha)\n",
        "        # alpha = alpha.scatter_(1, target.long(), self.alpha)\n",
        "        epsilon = 1e-10\n",
        "        alpha = self.alpha\n",
        "        if alpha.device != input.device:\n",
        "            alpha = alpha.to(input.device)\n",
        "\n",
        "        idx = target.cpu().long()\n",
        "\n",
        "        one_hot_key = torch.FloatTensor(target.size(0), self.num_class).zero_()\n",
        "        one_hot_key = one_hot_key.scatter_(1, idx, 1)\n",
        "        if one_hot_key.device != logit.device:\n",
        "            one_hot_key = one_hot_key.to(logit.device)\n",
        "\n",
        "        if self.smooth:\n",
        "            one_hot_key = torch.clamp(\n",
        "                one_hot_key, self.smooth, 1.0 - self.smooth)\n",
        "        pt = (one_hot_key * logit).sum(1) + epsilon\n",
        "        logpt = pt.log()\n",
        "\n",
        "        gamma = self.gamma\n",
        "\n",
        "        alpha = alpha[idx]\n",
        "        loss = -1 * alpha * torch.pow((1 - pt), gamma) * logpt\n",
        "\n",
        "        if self.size_average:\n",
        "            loss = loss.mean()\n",
        "        else:\n",
        "            loss = loss.sum()\n",
        "        return loss"
      ],
      "execution_count": 114,
      "outputs": []
    },
    {
      "cell_type": "markdown",
      "metadata": {
        "id": "7D0nms8_OUiD"
      },
      "source": [
        "### Resnet 101 with Focal Loss"
      ]
    },
    {
      "cell_type": "code",
      "metadata": {
        "id": "NYlrduTmEi6s"
      },
      "source": [
        "FL = FocalLoss(num_class=7, alpha=0.25, gamma=2.0, balance_index=2)"
      ],
      "execution_count": 115,
      "outputs": []
    },
    {
      "cell_type": "code",
      "metadata": {
        "id": "1L_viqrCJjzw"
      },
      "source": [
        "data = (src.transform(tfms, size=224)\n",
        "        .databunch(bs=16,num_workers=5).normalize(imagenet_stats))"
      ],
      "execution_count": 116,
      "outputs": []
    },
    {
      "cell_type": "code",
      "metadata": {
        "colab": {
          "base_uri": "https://localhost:8080/",
          "height": 180
        },
        "id": "gixPU_0XJocW",
        "outputId": "062f710b-c7b2-447d-bd30-b3f229ee4cd1"
      },
      "source": [
        "learn = cnn_learner(data, models.resnet101, metrics=[accuracy,error_rate,Recall(average=\"macro\")], loss_func=FL)\n",
        "learn.fit_one_cycle(4)"
      ],
      "execution_count": 2,
      "outputs": [
        {
          "output_type": "error",
          "ename": "NameError",
          "evalue": "ignored",
          "traceback": [
            "\u001b[0;31m---------------------------------------------------------------------------\u001b[0m",
            "\u001b[0;31mNameError\u001b[0m                                 Traceback (most recent call last)",
            "\u001b[0;32m<ipython-input-2-086e626ab418>\u001b[0m in \u001b[0;36m<module>\u001b[0;34m()\u001b[0m\n\u001b[0;32m----> 1\u001b[0;31m \u001b[0mlearn\u001b[0m \u001b[0;34m=\u001b[0m \u001b[0mcnn_learner\u001b[0m\u001b[0;34m(\u001b[0m\u001b[0mdata\u001b[0m\u001b[0;34m,\u001b[0m \u001b[0mmodels\u001b[0m\u001b[0;34m.\u001b[0m\u001b[0mresnet101\u001b[0m\u001b[0;34m,\u001b[0m \u001b[0mmetrics\u001b[0m\u001b[0;34m=\u001b[0m\u001b[0;34m[\u001b[0m\u001b[0maccuracy\u001b[0m\u001b[0;34m,\u001b[0m\u001b[0merror_rate\u001b[0m\u001b[0;34m,\u001b[0m\u001b[0mRecall\u001b[0m\u001b[0;34m(\u001b[0m\u001b[0maverage\u001b[0m\u001b[0;34m=\u001b[0m\u001b[0;34m\"macro\"\u001b[0m\u001b[0;34m)\u001b[0m\u001b[0;34m]\u001b[0m\u001b[0;34m,\u001b[0m \u001b[0mloss_func\u001b[0m\u001b[0;34m=\u001b[0m\u001b[0mFL\u001b[0m\u001b[0;34m)\u001b[0m\u001b[0;34m\u001b[0m\u001b[0;34m\u001b[0m\u001b[0m\n\u001b[0m\u001b[1;32m      2\u001b[0m \u001b[0mlearn\u001b[0m\u001b[0;34m.\u001b[0m\u001b[0mfit_one_cycle\u001b[0m\u001b[0;34m(\u001b[0m\u001b[0;36m4\u001b[0m\u001b[0;34m)\u001b[0m\u001b[0;34m\u001b[0m\u001b[0;34m\u001b[0m\u001b[0m\n",
            "\u001b[0;31mNameError\u001b[0m: name 'cnn_learner' is not defined"
          ]
        }
      ]
    },
    {
      "cell_type": "code",
      "metadata": {
        "colab": {
          "base_uri": "https://localhost:8080/",
          "height": 35
        },
        "id": "8gAvbplLOcUl",
        "outputId": "222d9948-c32f-457c-f3f3-4c4aff84923b"
      },
      "source": [
        "learn.save('stage1-sz224-rn101-fLoss')\n",
        "shutil.copy2(\"./models/stage1-sz224-rn101-fLoss.pth\", \"./drive/My Drive/Colab Notebooks/Data/models/models\")"
      ],
      "execution_count": 118,
      "outputs": [
        {
          "output_type": "execute_result",
          "data": {
            "application/vnd.google.colaboratory.intrinsic+json": {
              "type": "string"
            },
            "text/plain": [
              "'./drive/My Drive/Colab Notebooks/Data/models/models'"
            ]
          },
          "metadata": {
            "tags": []
          },
          "execution_count": 118
        }
      ]
    },
    {
      "cell_type": "code",
      "metadata": {
        "colab": {
          "base_uri": "https://localhost:8080/",
          "height": 374
        },
        "id": "W2fs5HsGOepS",
        "outputId": "1c2e98d9-7464-422e-95f9-250f5a995e6f"
      },
      "source": [
        "learn.unfreeze()\n",
        "learn.lr_find()\n",
        "learn.recorder.plot()\n"
      ],
      "execution_count": 119,
      "outputs": [
        {
          "output_type": "display_data",
          "data": {
            "text/html": [
              "\n",
              "    <div>\n",
              "        <style>\n",
              "            /* Turns off some styling */\n",
              "            progress {\n",
              "                /* gets rid of default border in Firefox and Opera. */\n",
              "                border: none;\n",
              "                /* Needs to be in here for Safari polyfill so background images work as expected. */\n",
              "                background-size: auto;\n",
              "            }\n",
              "            .progress-bar-interrupted, .progress-bar-interrupted::-webkit-progress-bar {\n",
              "                background: #F44336;\n",
              "            }\n",
              "        </style>\n",
              "      <progress value='0' class='' max='1' style='width:300px; height:20px; vertical-align: middle;'></progress>\n",
              "      0.00% [0/1 00:00<00:00]\n",
              "    </div>\n",
              "    \n",
              "<table border=\"1\" class=\"dataframe\">\n",
              "  <thead>\n",
              "    <tr style=\"text-align: left;\">\n",
              "      <th>epoch</th>\n",
              "      <th>train_loss</th>\n",
              "      <th>valid_loss</th>\n",
              "      <th>accuracy</th>\n",
              "      <th>error_rate</th>\n",
              "      <th>recall</th>\n",
              "      <th>time</th>\n",
              "    </tr>\n",
              "  </thead>\n",
              "  <tbody>\n",
              "  </tbody>\n",
              "</table><p>\n",
              "\n",
              "    <div>\n",
              "        <style>\n",
              "            /* Turns off some styling */\n",
              "            progress {\n",
              "                /* gets rid of default border in Firefox and Opera. */\n",
              "                border: none;\n",
              "                /* Needs to be in here for Safari polyfill so background images work as expected. */\n",
              "                background-size: auto;\n",
              "            }\n",
              "            .progress-bar-interrupted, .progress-bar-interrupted::-webkit-progress-bar {\n",
              "                background: #F44336;\n",
              "            }\n",
              "        </style>\n",
              "      <progress value='52' class='' max='2640' style='width:300px; height:20px; vertical-align: middle;'></progress>\n",
              "      1.97% [52/2640 00:24<20:02 0.2579]\n",
              "    </div>\n",
              "    "
            ],
            "text/plain": [
              "<IPython.core.display.HTML object>"
            ]
          },
          "metadata": {
            "tags": []
          }
        },
        {
          "output_type": "stream",
          "text": [
            "LR Finder is complete, type {learner_name}.recorder.plot() to see the graph.\n"
          ],
          "name": "stdout"
        },
        {
          "output_type": "display_data",
          "data": {
            "image/png": "[encoded data removed]",
            "text/plain": [
              "<Figure size 432x288 with 1 Axes>"
            ]
          },
          "metadata": {
            "tags": [],
            "needs_background": "light"
          }
        }
      ]
    },
    {
      "cell_type": "code",
      "metadata": {
        "colab": {
          "base_uri": "https://localhost:8080/",
          "height": 163
        },
        "id": "qqFxoAKsEQuo",
        "outputId": "3dd72d78-b73a-4a2f-9d34-113fdb991451"
      },
      "source": [
        "learn.fit_one_cycle(2, slice(1e-6, 1e-5))"
      ],
      "execution_count": 1,
      "outputs": [
        {
          "output_type": "error",
          "ename": "NameError",
          "evalue": "ignored",
          "traceback": [
            "\u001b[0;31m---------------------------------------------------------------------------\u001b[0m",
            "\u001b[0;31mNameError\u001b[0m                                 Traceback (most recent call last)",
            "\u001b[0;32m<ipython-input-1-13fde6d49e3c>\u001b[0m in \u001b[0;36m<module>\u001b[0;34m()\u001b[0m\n\u001b[0;32m----> 1\u001b[0;31m \u001b[0mlearn\u001b[0m\u001b[0;34m.\u001b[0m\u001b[0mfit_one_cycle\u001b[0m\u001b[0;34m(\u001b[0m\u001b[0;36m2\u001b[0m\u001b[0;34m,\u001b[0m \u001b[0mslice\u001b[0m\u001b[0;34m(\u001b[0m\u001b[0;36m1e-6\u001b[0m\u001b[0;34m,\u001b[0m \u001b[0;36m1e-5\u001b[0m\u001b[0;34m)\u001b[0m\u001b[0;34m)\u001b[0m\u001b[0;34m\u001b[0m\u001b[0;34m\u001b[0m\u001b[0m\n\u001b[0m",
            "\u001b[0;31mNameError\u001b[0m: name 'learn' is not defined"
          ]
        }
      ]
    },
    {
      "cell_type": "code",
      "metadata": {
        "colab": {
          "base_uri": "https://localhost:8080/",
          "height": 34
        },
        "id": "nQeiwCpWOgq2",
        "outputId": "b40cfdfe-3c97-4c6c-8284-7d56852aba17"
      },
      "source": [
        "learn.save('stage2-sz224-rn101-fLoss')\n",
        "shutil.copy2(\"./models/stage2-sz224-rn101-fLoss.pth\", \"./drive/My Drive/Colab Notebooks/Data/models/models\")"
      ],
      "execution_count": null,
      "outputs": [
        {
          "output_type": "execute_result",
          "data": {
            "text/plain": [
              "'./drive/My Drive/Colab Notebooks/Data/models/stage2-sz224-rn101-fLoss.pth'"
            ]
          },
          "metadata": {
            "tags": []
          },
          "execution_count": 66
        }
      ]
    },
    {
      "cell_type": "code",
      "metadata": {
        "id": "DetlETVYTBsS"
      },
      "source": [
        "interp = ClassificationInterpretation.from_learner(learn)\n",
        "interp.plot_confusion_matrix()\n",
        "interp."
      ],
      "execution_count": null,
      "outputs": []
    }
  ]
}